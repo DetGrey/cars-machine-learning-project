{
 "cells": [
  {
   "cell_type": "markdown",
   "id": "b859bf05",
   "metadata": {},
   "source": [
    "# Regression Problem Formulation"
   ]
  },
  {
   "cell_type": "markdown",
   "id": "b4a6511a",
   "metadata": {},
   "source": [
    "### 1. Goal\n",
    "The goal of the regression analysis is to build and evaluate a predictive model that estimates a car’s acceleration time using its physical and performance-related attributes.\n",
    "\n",
    "### 2. Problem Statement\n",
    "The objective is to predict the time it takes for a car to accelerate from 0 to 60 mph based on measurable attributes such as weight, engine displacement, horsepower, and number of cylinders. <br>\n",
    "By applying multiple linear regression, we seek to identify which factors most strongly affect acceleration and how these relationships can be quantified.\n",
    "\n",
    "### 3. Target Variable\n",
    "- Orginial column: `acceleration`\n",
    "\n",
    "### 4. Input Features\n",
    "- `weight`\n",
    "- `horsepower`\n",
    "- `displacement`\n",
    "- `cylinders`\n",
    "\n",
    "### 5. Hypotheses\n",
    "- *Null Hypothesis (H₀):* <br>\n",
    "None of the selected features (weight, horsepower, displacement, and cylinders) significantly influence a car’s acceleration time. All regression coefficients are equal to zero.\n",
    "- *Alternative Hypothesis (H₁):* <br>\n",
    "At least one of the selected features significantly influences a car’s acceleration time. <br>\n",
    "In statistical terms, at least one regression coefficient is not equal to zero.\n",
    "\n",
    "### 6. Example Input \n",
    "```csv\n",
    "weight, horsepower, displacement, cylinders\n",
    "3200,130,250,6\n",
    "```\n",
    "### 7. Predicted Output \n",
    "```csv\n",
    "10.8 -> Acceleration\n",
    "```\n",
    "\n"
   ]
  },
  {
   "cell_type": "markdown",
   "id": "b98b542c",
   "metadata": {},
   "source": [
    "## The expected approach invovles: \n",
    "1. **Data Cleaning and Preparation**\n",
    "   - Handle missing or non-numeric values  \n",
    "   - Convert text-based values (e.g., *horsepower*) into numeric format  \n",
    "\n",
    "2. **Exploratory Data Analysis (EDA)**\n",
    "   - Use plots and summary statistics to identify correlations and relationships among variables  \n",
    "\n",
    "3. **Model Design**\n",
    "   - Build a **Multiple Linear Regression** model  \n",
    "   - Use **acceleration** as the target variable and select relevant input features  \n",
    "\n",
    "4. **Model Training and Evaluation**\n",
    "   - Split the dataset into **training** and **test** sets  \n",
    "   - Fit the model and evaluate performance using metrics such as:  \n",
    "     - **Mean Squared Error (MSE)**  \n",
    "     - **R² Score**  \n",
    "\n",
    "5. **Model Interpretation**\n",
    "   - Analyze regression coefficients to determine:  \n",
    "     - The **direction** (positive or negative)  \n",
    "     - The **strength** of each feature’s effect on acceleration  \n",
    "\n",
    "6. **Visualization**\n",
    "   - Plot **predicted vs. actual acceleration values** to visually assess model accuracy  "
   ]
  },
  {
   "cell_type": "code",
   "execution_count": 2,
   "id": "2eff8404",
   "metadata": {},
   "outputs": [],
   "source": [
    "import pandas as pd\n",
    "from sklearn.model_selection import train_test_split\n",
    "from sklearn.linear_model import LinearRegression\n",
    "from sklearn.metrics import mean_squared_error, r2_score\n",
    "import matplotlib.pyplot as plt\n",
    "\n",
    "# Load dataset\n",
    "df = pd.read_csv(\"cars.csv\")\n",
    "\n",
    "# Convert horsepower to numeric (some values may be '?')\n",
    "df['horsepower'] = pd.to_numeric(df['horsepower'], errors='coerce')\n",
    "\n",
    "# Drop missing values\n",
    "df = df.dropna(subset=['horsepower', 'acceleration', 'weight', 'displacement', 'cylinders'])\n",
    "\n",
    "# Define features and targets\n",
    "x = df[['weight', 'horsepower', 'displacement', 'cylinders']]\n",
    "y = df['acceleration']\n",
    "\n",
    "# Split into training and test data (80/20) \n",
    "x_train, x_test, y_train, y_test = train_test_split(x,y,test_size=0.2, random_state=42)"
   ]
  },
  {
   "cell_type": "code",
   "execution_count": 5,
   "id": "1938610f",
   "metadata": {},
   "outputs": [
    {
     "name": "stdout",
     "output_type": "stream",
     "text": [
      "Model trained successfully!\n",
      "Number of coefficients: 4\n",
      "Intercept: 17.271962626747616\n",
      "Coefficients: [ 0.00313193 -0.08738941 -0.00807625 -0.06579851]\n"
     ]
    }
   ],
   "source": [
    "# Initialize and train model\n",
    "model = LinearRegression()\n",
    "model.fit(x_train, y_train)\n",
    "\n",
    "# Predict on test set\n",
    "y_pred = model.predict(x_test)\n",
    "\n",
    "print(\"Model trained successfully!\")\n",
    "print(\"Number of coefficients:\", len(model.coef_))\n",
    "print(\"Intercept:\", model.intercept_)\n",
    "print(\"Coefficients:\", model.coef_)"
   ]
  },
  {
   "cell_type": "code",
   "execution_count": null,
   "id": "0ebebccf",
   "metadata": {},
   "outputs": [
    {
     "name": "stdout",
     "output_type": "stream",
     "text": [
      "Mean Squared Error: 2.668\n",
      "R² Score: 0.577\n"
     ]
    }
   ],
   "source": [
    "# Evaluate performance\n",
    "y_pred = model.predict(x_test)\n",
    "\n",
    "mse = mean_squared_error(y_test, y_pred)\n",
    "r2 = r2_score(y_test, y_pred)\n",
    "\n",
    "print(\"Mean Squared Error:\", round(mse, 3))\n",
    "print(\"R² Score:\", round(r2, 3))"
   ]
  },
  {
   "cell_type": "code",
   "execution_count": 7,
   "id": "cff9fcd5",
   "metadata": {},
   "outputs": [
    {
     "data": {
      "image/png": "[encoded data removed]",
      "text/plain": [
       "<Figure size 640x480 with 1 Axes>"
      ]
     },
     "metadata": {},
     "output_type": "display_data"
    }
   ],
   "source": [
    "# Scatter plot of actual vs predicted acceleration\n",
    "plt.scatter(y_test,y_pred)\n",
    "plt.xlabel(\"Actual Acceleration\")\n",
    "plt.ylabel(\"Predicted Acceleration\")\n",
    "plt.title(\"Actual vs Predicted Accleration\")\n",
    "plt.show()"
   ]
  }
 ],
 "metadata": {
  "kernelspec": {
   "display_name": "cars-deep-learning-project",
   "language": "python",
   "name": "python3"
  },
  "language_info": {
   "codemirror_mode": {
    "name": "ipython",
    "version": 3
   },
   "file_extension": ".py",
   "mimetype": "text/x-python",
   "name": "python",
   "nbconvert_exporter": "python",
   "pygments_lexer": "ipython3",
   "version": "3.13.8"
  }
 },
 "nbformat": 4,
 "nbformat_minor": 5
}
